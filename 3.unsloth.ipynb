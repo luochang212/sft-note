{
 "cells": [
  {
   "cell_type": "markdown",
   "id": "5fa6dbe7-359b-48e6-bb3f-3f6a37179ea5",
   "metadata": {},
   "source": [
    "# unsloth 微调\n",
    "\n",
    "[unsloth](https://github.com/unslothai/unsloth) 是目前最适合在消费级显卡上使用的微调框架，它的显存消耗少且速度极快。最感人的是它的文档也是最全的，回答了初学者的常见疑惑和一些很有价值的问题 --> [⭐ Beginner? Start here!](https://docs.unsloth.ai/get-started/beginner-start-here)"
   ]
  },
  {
   "cell_type": "code",
   "execution_count": 1,
   "id": "848c430a-a32c-4a66-a40d-9d1a9243aa6e",
   "metadata": {
    "execution": {
     "iopub.execute_input": "2025-04-26T15:28:53.202112Z",
     "iopub.status.busy": "2025-04-26T15:28:53.201898Z",
     "iopub.status.idle": "2025-04-26T15:28:53.206649Z",
     "shell.execute_reply": "2025-04-26T15:28:53.205627Z",
     "shell.execute_reply.started": "2025-04-26T15:28:53.202089Z"
    }
   },
   "outputs": [],
   "source": [
    "# !uv pip install unsloth"
   ]
  },
  {
   "cell_type": "code",
   "execution_count": 14,
   "id": "4c81e07b-5d4c-4e74-9cd3-32798b1a9bb0",
   "metadata": {
    "execution": {
     "iopub.execute_input": "2025-04-26T15:53:30.059110Z",
     "iopub.status.busy": "2025-04-26T15:53:30.058749Z",
     "iopub.status.idle": "2025-04-26T15:53:30.063079Z",
     "shell.execute_reply": "2025-04-26T15:53:30.062078Z",
     "shell.execute_reply.started": "2025-04-26T15:53:30.059090Z"
    }
   },
   "outputs": [],
   "source": [
    "import torch\n",
    "\n",
    "from unsloth import FastLanguageModel\n",
    "from datasets import load_dataset\n",
    "from trl import SFTTrainer\n",
    "from transformers import TrainingArguments, TextStreamer, AutoTokenizer, BitsAndBytesConfig\n",
    "from unsloth import is_bfloat16_supported\n",
    "from peft import AutoPeftModelForCausalLM\n",
    "\n",
    "DATASET_PATH = './data/train_zh_1000.json'\n",
    "MODEL_PATH = './model/Qwen/Qwen2.5-0.5B-instruct'     \n",
    "OUTPUT_PATH = './model/lora_model'"
   ]
  },
  {
   "cell_type": "markdown",
   "id": "c06bdc5c-5a51-45b2-a5a2-28b02da181a5",
   "metadata": {},
   "source": [
    "## 1. 加载模型"
   ]
  },
  {
   "cell_type": "code",
   "execution_count": 3,
   "id": "20465bd5-640f-427f-a653-73d48d73e1b3",
   "metadata": {
    "execution": {
     "iopub.execute_input": "2025-04-26T15:29:03.348019Z",
     "iopub.status.busy": "2025-04-26T15:29:03.347679Z",
     "iopub.status.idle": "2025-04-26T15:31:03.661936Z",
     "shell.execute_reply": "2025-04-26T15:31:03.661178Z",
     "shell.execute_reply.started": "2025-04-26T15:29:03.348006Z"
    }
   },
   "outputs": [
    {
     "name": "stdout",
     "output_type": "stream",
     "text": [
      "==((====))==  Unsloth 2025.3.19: Fast Qwen2 patching. Transformers: 4.51.3.\n",
      "   \\\\   /|    NVIDIA GeForce RTX 4070 Laptop GPU. Num GPUs = 1. Max memory: 7.996 GB. Platform: Linux.\n",
      "O^O/ \\_/ \\    Torch: 2.6.0+cu124. CUDA: 8.9. CUDA Toolkit: 12.4. Triton: 3.2.0\n",
      "\\        /    Bfloat16 = TRUE. FA [Xformers = 0.0.29.post3. FA2 = False]\n",
      " \"-____-\"     Free license: http://github.com/unslothai/unsloth\n",
      "Unsloth: Fast downloading is enabled - ignore downloading bars which are red colored!\n"
     ]
    },
    {
     "name": "stderr",
     "output_type": "stream",
     "text": [
      "Sliding Window Attention is enabled but not implemented for `eager`; unexpected results may be encountered.\n"
     ]
    }
   ],
   "source": [
    "max_seq_length = 2048 # Choose any! We auto support RoPE Scaling internally!\n",
    "dtype = None # None for auto detection. Float16 for Tesla T4, V100, Bfloat16 for Ampere+\n",
    "load_in_4bit = True # Use 4bit quantization to reduce memory usage. Can be False.\n",
    "\n",
    "model, tokenizer = FastLanguageModel.from_pretrained(\n",
    "    # Can select any from the below:\n",
    "    # \"unsloth/Qwen2.5-0.5B\", \"unsloth/Qwen2.5-1.5B\", \"unsloth/Qwen2.5-3B\"\n",
    "    # \"unsloth/Qwen2.5-14B\",  \"unsloth/Qwen2.5-32B\",  \"unsloth/Qwen2.5-72B\",\n",
    "    # And also all Instruct versions and Math. Coding verisons!\n",
    "    model_name = MODEL_PATH,\n",
    "    max_seq_length = max_seq_length,\n",
    "    dtype = dtype,\n",
    "    load_in_4bit = load_in_4bit,\n",
    "    # token = \"hf_...\", # use one if using gated models like meta-llama/Llama-2-7b-hf\n",
    ")"
   ]
  },
  {
   "cell_type": "code",
   "execution_count": 4,
   "id": "407141fd-05a5-45eb-8f62-a1bcb019f76d",
   "metadata": {
    "execution": {
     "iopub.execute_input": "2025-04-26T15:31:03.662730Z",
     "iopub.status.busy": "2025-04-26T15:31:03.662558Z",
     "iopub.status.idle": "2025-04-26T15:31:05.837479Z",
     "shell.execute_reply": "2025-04-26T15:31:05.836775Z",
     "shell.execute_reply.started": "2025-04-26T15:31:03.662716Z"
    }
   },
   "outputs": [
    {
     "name": "stderr",
     "output_type": "stream",
     "text": [
      "Unsloth 2025.3.19 patched 24 layers with 24 QKV layers, 24 O layers and 24 MLP layers.\n"
     ]
    }
   ],
   "source": [
    "model = FastLanguageModel.get_peft_model(\n",
    "    model,\n",
    "    r = 16, # Choose any number > 0 ! Suggested 8, 16, 32, 64, 128\n",
    "    target_modules = [\"q_proj\", \"k_proj\", \"v_proj\", \"o_proj\",\n",
    "                      \"gate_proj\", \"up_proj\", \"down_proj\",],\n",
    "    lora_alpha = 16,\n",
    "    lora_dropout = 0, # Supports any, but = 0 is optimized\n",
    "    bias = \"none\",    # Supports any, but = \"none\" is optimized\n",
    "    # [NEW] \"unsloth\" uses 30% less VRAM, fits 2x larger batch sizes!\n",
    "    use_gradient_checkpointing = \"unsloth\", # True or \"unsloth\" for very long context\n",
    "    random_state = 3407,\n",
    "    use_rslora = False,  # We support rank stabilized LoRA\n",
    "    loftq_config = None, # And LoftQ\n",
    ")"
   ]
  },
  {
   "cell_type": "markdown",
   "id": "d410ae54-f4ce-4c2f-b7af-890d67ade050",
   "metadata": {},
   "source": [
    "## 2. 加载数据\n",
    "\n",
    "与上一节相同，我们要加载 Alpaca 数据集，然后使用模板，将数据做成特定格式的纯文本。\n",
    "\n",
    "官方Notebook [Qwen2.5_(7B)-Alpaca.ipynb](https://colab.research.google.com/github/unslothai/notebooks/blob/main/nb/Qwen2.5_(7B)-Alpaca.ipynb) 提供的模板：\n",
    "\n",
    "```\n",
    "alpaca_prompt = \"\"\"Below is an instruction that describes a task, paired with an input that provides further context. Write a response that appropriately completes the request.\n",
    "\n",
    "### Instruction:\n",
    "{}\n",
    "\n",
    "### Input:\n",
    "{}\n",
    "\n",
    "### Response:\n",
    "{}\"\"\"\n",
    "```\n",
    "\n",
    "由于我们数据的 `Input` 字段为空，可以略去。我们使用的格式如下："
   ]
  },
  {
   "cell_type": "code",
   "execution_count": 5,
   "id": "7510b640-daca-4d1e-ab46-ff1b5b06d3c0",
   "metadata": {
    "execution": {
     "iopub.execute_input": "2025-04-26T15:31:05.838433Z",
     "iopub.status.busy": "2025-04-26T15:31:05.838319Z",
     "iopub.status.idle": "2025-04-26T15:31:05.842212Z",
     "shell.execute_reply": "2025-04-26T15:31:05.841475Z",
     "shell.execute_reply.started": "2025-04-26T15:31:05.838424Z"
    }
   },
   "outputs": [],
   "source": [
    "alpaca_prompt = \"\"\"### Question:\n",
    "{}\n",
    "\n",
    "### Response:\n",
    "{}\"\"\"\n",
    "\n",
    "EOS_TOKEN = tokenizer.eos_token # Must add EOS_TOKEN\n",
    "\n",
    "def formatting_prompts_func(examples):\n",
    "    instructions = examples[\"instruction\"]\n",
    "    outputs      = examples[\"output\"]\n",
    "    texts = []\n",
    "    for instruction, output in zip(instructions, outputs):\n",
    "        # Must add EOS_TOKEN, otherwise your generation will go on forever!\n",
    "        text = alpaca_prompt.format(instruction, output) + EOS_TOKEN\n",
    "        texts.append(text)\n",
    "    return { \"text\" : texts, }"
   ]
  },
  {
   "cell_type": "code",
   "execution_count": 6,
   "id": "ae68a5e7-5646-4217-a023-559142c56807",
   "metadata": {
    "execution": {
     "iopub.execute_input": "2025-04-26T15:31:05.843776Z",
     "iopub.status.busy": "2025-04-26T15:31:05.843311Z",
     "iopub.status.idle": "2025-04-26T15:31:12.688195Z",
     "shell.execute_reply": "2025-04-26T15:31:12.687294Z",
     "shell.execute_reply.started": "2025-04-26T15:31:05.843764Z"
    }
   },
   "outputs": [
    {
     "name": "stdout",
     "output_type": "stream",
     "text": [
      "基本信息：\n",
      "Dataset({\n",
      "    features: ['instruction', 'input', 'output'],\n",
      "    num_rows: 1000\n",
      "})\n"
     ]
    }
   ],
   "source": [
    "# 从 HuggingFace 仓库加载数据集\n",
    "# dataset = load_dataset(\"yahma/alpaca-cleaned\", split = \"train\")\n",
    "\n",
    "# 从本地加载数据集\n",
    "dataset = load_dataset(\"json\", data_files=DATASET_PATH, split = \"train\")\n",
    "\n",
    "# 打印数据集的基本信息\n",
    "print(f'基本信息：\\n{dataset}')"
   ]
  },
  {
   "cell_type": "code",
   "execution_count": 7,
   "id": "594df599-5746-4ed3-ac69-010b79f87092",
   "metadata": {
    "execution": {
     "iopub.execute_input": "2025-04-26T15:31:12.689253Z",
     "iopub.status.busy": "2025-04-26T15:31:12.688995Z",
     "iopub.status.idle": "2025-04-26T15:31:12.705220Z",
     "shell.execute_reply": "2025-04-26T15:31:12.704497Z",
     "shell.execute_reply.started": "2025-04-26T15:31:12.689234Z"
    }
   },
   "outputs": [
    {
     "data": {
      "text/plain": [
       "{'instruction': '血热的临床表现是什么?',\n",
       " 'input': '',\n",
       " 'output': '初发或复发病不久。皮疹发展迅速，呈点滴状、钱币状或混合状。常见丘疹、斑丘疹、大小不等的斑片，潮红、鲜红或深红色。散布于体表各处或几处，以躯干、四肢多见，亦可先从头面开始，逐渐发展至全身。新皮疹不断出现，表面覆有银白色鳞屑，干燥易脱落，剥刮后有点状出血。可有同形反应;伴瘙痒、心烦口渴。大便秘结、小便短黄，舌质红赤，苔薄黄或根部黄厚，脉弦滑或滑数。血热炽盛病机，主要表现在如下四个面：一、热象：血热多属阳盛则热之实性、热性病机和病证、并表现出热象。二、血行加速：血得热则行，可使血流加速，且使脉道扩张，络脉充血，故可见面红目赤，舌色深红（即舌绛）等症。三、动血：在血行加速与脉道扩张的基础上，血分有热，可灼伤脉络，引起出血，称为“热迫血妄行”，或称动血。四、扰乱心神：血热炽盛则扰动心神，心主血脉而藏神，血脉与心相通，故血热则使心神不安，而见心烦，或躁扰发狂等症。',\n",
       " 'text': '### Question:\\n血热的临床表现是什么?\\n\\n### Response:\\n初发或复发病不久。皮疹发展迅速，呈点滴状、钱币状或混合状。常见丘疹、斑丘疹、大小不等的斑片，潮红、鲜红或深红色。散布于体表各处或几处，以躯干、四肢多见，亦可先从头面开始，逐渐发展至全身。新皮疹不断出现，表面覆有银白色鳞屑，干燥易脱落，剥刮后有点状出血。可有同形反应;伴瘙痒、心烦口渴。大便秘结、小便短黄，舌质红赤，苔薄黄或根部黄厚，脉弦滑或滑数。血热炽盛病机，主要表现在如下四个面：一、热象：血热多属阳盛则热之实性、热性病机和病证、并表现出热象。二、血行加速：血得热则行，可使血流加速，且使脉道扩张，络脉充血，故可见面红目赤，舌色深红（即舌绛）等症。三、动血：在血行加速与脉道扩张的基础上，血分有热，可灼伤脉络，引起出血，称为“热迫血妄行”，或称动血。四、扰乱心神：血热炽盛则扰动心神，心主血脉而藏神，血脉与心相通，故血热则使心神不安，而见心烦，或躁扰发狂等症。<|im_end|>'}"
      ]
     },
     "execution_count": 7,
     "metadata": {},
     "output_type": "execute_result"
    }
   ],
   "source": [
    "# 将模板应用于数据\n",
    "dataset = dataset.map(formatting_prompts_func, batched = True,)\n",
    "\n",
    "dataset[0]"
   ]
  },
  {
   "cell_type": "markdown",
   "id": "9e731a3b-d95d-414a-ad3a-36d9e86fd1b2",
   "metadata": {},
   "source": [
    "## 3. 微调模型"
   ]
  },
  {
   "cell_type": "code",
   "execution_count": 8,
   "id": "5d47fca5-18e6-4ddc-bd46-dcac2fe2e0e7",
   "metadata": {
    "execution": {
     "iopub.execute_input": "2025-04-26T15:31:12.706091Z",
     "iopub.status.busy": "2025-04-26T15:31:12.705890Z",
     "iopub.status.idle": "2025-04-26T15:31:13.062071Z",
     "shell.execute_reply": "2025-04-26T15:31:13.061580Z",
     "shell.execute_reply.started": "2025-04-26T15:31:12.706075Z"
    }
   },
   "outputs": [],
   "source": [
    "trainer = SFTTrainer(\n",
    "    model = model,\n",
    "    tokenizer = tokenizer,\n",
    "    train_dataset = dataset,\n",
    "    dataset_text_field = \"text\",\n",
    "    max_seq_length = max_seq_length,\n",
    "    dataset_num_proc = 2,\n",
    "    packing = False, # Can make training 5x faster for short sequences.\n",
    "    args = TrainingArguments(\n",
    "        per_device_train_batch_size = 2,\n",
    "        gradient_accumulation_steps = 4,\n",
    "        warmup_steps = 5,\n",
    "        # num_train_epochs = 1, # Set this for 1 full training run.\n",
    "        max_steps = 60,\n",
    "        learning_rate = 2e-4,\n",
    "        fp16 = not is_bfloat16_supported(),\n",
    "        bf16 = is_bfloat16_supported(),\n",
    "        logging_steps = 1,\n",
    "        optim = \"adamw_8bit\",\n",
    "        weight_decay = 0.01,\n",
    "        lr_scheduler_type = \"linear\",\n",
    "        seed = 3407,\n",
    "        output_dir = \"outputs\",\n",
    "        report_to = \"none\", # Use this for WandB etc\n",
    "    ),\n",
    ")"
   ]
  },
  {
   "cell_type": "code",
   "execution_count": 9,
   "id": "18d3dac2-b1a7-4f4b-a3fc-7ae3fa0037c0",
   "metadata": {
    "execution": {
     "iopub.execute_input": "2025-04-26T15:31:13.062640Z",
     "iopub.status.busy": "2025-04-26T15:31:13.062511Z",
     "iopub.status.idle": "2025-04-26T15:32:02.560838Z",
     "shell.execute_reply": "2025-04-26T15:32:02.560232Z",
     "shell.execute_reply.started": "2025-04-26T15:31:13.062630Z"
    }
   },
   "outputs": [
    {
     "name": "stderr",
     "output_type": "stream",
     "text": [
      "==((====))==  Unsloth - 2x faster free finetuning | Num GPUs used = 1\n",
      "   \\\\   /|    Num examples = 1,000 | Num Epochs = 1 | Total steps = 60\n",
      "O^O/ \\_/ \\    Batch size per device = 2 | Gradient accumulation steps = 4\n",
      "\\        /    Data Parallel GPUs = 1 | Total batch size (2 x 4 x 1) = 8\n",
      " \"-____-\"     Trainable parameters = 8,798,208/5,000,000,000 (0.18% trained)\n"
     ]
    },
    {
     "data": {
      "text/html": [
       "\n",
       "    <div>\n",
       "      \n",
       "      <progress value='60' max='60' style='width:300px; height:20px; vertical-align: middle;'></progress>\n",
       "      [60/60 00:46, Epoch 0/1]\n",
       "    </div>\n",
       "    <table border=\"1\" class=\"dataframe\">\n",
       "  <thead>\n",
       " <tr style=\"text-align: left;\">\n",
       "      <th>Step</th>\n",
       "      <th>Training Loss</th>\n",
       "    </tr>\n",
       "  </thead>\n",
       "  <tbody>\n",
       "    <tr>\n",
       "      <td>1</td>\n",
       "      <td>3.361200</td>\n",
       "    </tr>\n",
       "    <tr>\n",
       "      <td>2</td>\n",
       "      <td>3.536300</td>\n",
       "    </tr>\n",
       "    <tr>\n",
       "      <td>3</td>\n",
       "      <td>4.094300</td>\n",
       "    </tr>\n",
       "    <tr>\n",
       "      <td>4</td>\n",
       "      <td>4.205400</td>\n",
       "    </tr>\n",
       "    <tr>\n",
       "      <td>5</td>\n",
       "      <td>3.495500</td>\n",
       "    </tr>\n",
       "    <tr>\n",
       "      <td>6</td>\n",
       "      <td>3.208000</td>\n",
       "    </tr>\n",
       "    <tr>\n",
       "      <td>7</td>\n",
       "      <td>3.200600</td>\n",
       "    </tr>\n",
       "    <tr>\n",
       "      <td>8</td>\n",
       "      <td>3.059800</td>\n",
       "    </tr>\n",
       "    <tr>\n",
       "      <td>9</td>\n",
       "      <td>2.882400</td>\n",
       "    </tr>\n",
       "    <tr>\n",
       "      <td>10</td>\n",
       "      <td>3.060800</td>\n",
       "    </tr>\n",
       "    <tr>\n",
       "      <td>11</td>\n",
       "      <td>3.032400</td>\n",
       "    </tr>\n",
       "    <tr>\n",
       "      <td>12</td>\n",
       "      <td>2.559100</td>\n",
       "    </tr>\n",
       "    <tr>\n",
       "      <td>13</td>\n",
       "      <td>3.117500</td>\n",
       "    </tr>\n",
       "    <tr>\n",
       "      <td>14</td>\n",
       "      <td>3.048100</td>\n",
       "    </tr>\n",
       "    <tr>\n",
       "      <td>15</td>\n",
       "      <td>3.068500</td>\n",
       "    </tr>\n",
       "    <tr>\n",
       "      <td>16</td>\n",
       "      <td>3.060900</td>\n",
       "    </tr>\n",
       "    <tr>\n",
       "      <td>17</td>\n",
       "      <td>3.244200</td>\n",
       "    </tr>\n",
       "    <tr>\n",
       "      <td>18</td>\n",
       "      <td>2.826900</td>\n",
       "    </tr>\n",
       "    <tr>\n",
       "      <td>19</td>\n",
       "      <td>2.905700</td>\n",
       "    </tr>\n",
       "    <tr>\n",
       "      <td>20</td>\n",
       "      <td>2.560700</td>\n",
       "    </tr>\n",
       "    <tr>\n",
       "      <td>21</td>\n",
       "      <td>3.101800</td>\n",
       "    </tr>\n",
       "    <tr>\n",
       "      <td>22</td>\n",
       "      <td>2.641800</td>\n",
       "    </tr>\n",
       "    <tr>\n",
       "      <td>23</td>\n",
       "      <td>2.747800</td>\n",
       "    </tr>\n",
       "    <tr>\n",
       "      <td>24</td>\n",
       "      <td>2.477000</td>\n",
       "    </tr>\n",
       "    <tr>\n",
       "      <td>25</td>\n",
       "      <td>2.990400</td>\n",
       "    </tr>\n",
       "    <tr>\n",
       "      <td>26</td>\n",
       "      <td>2.762900</td>\n",
       "    </tr>\n",
       "    <tr>\n",
       "      <td>27</td>\n",
       "      <td>2.995700</td>\n",
       "    </tr>\n",
       "    <tr>\n",
       "      <td>28</td>\n",
       "      <td>2.544500</td>\n",
       "    </tr>\n",
       "    <tr>\n",
       "      <td>29</td>\n",
       "      <td>2.695300</td>\n",
       "    </tr>\n",
       "    <tr>\n",
       "      <td>30</td>\n",
       "      <td>3.105800</td>\n",
       "    </tr>\n",
       "    <tr>\n",
       "      <td>31</td>\n",
       "      <td>2.342800</td>\n",
       "    </tr>\n",
       "    <tr>\n",
       "      <td>32</td>\n",
       "      <td>3.001500</td>\n",
       "    </tr>\n",
       "    <tr>\n",
       "      <td>33</td>\n",
       "      <td>2.700000</td>\n",
       "    </tr>\n",
       "    <tr>\n",
       "      <td>34</td>\n",
       "      <td>2.512800</td>\n",
       "    </tr>\n",
       "    <tr>\n",
       "      <td>35</td>\n",
       "      <td>3.497100</td>\n",
       "    </tr>\n",
       "    <tr>\n",
       "      <td>36</td>\n",
       "      <td>2.660800</td>\n",
       "    </tr>\n",
       "    <tr>\n",
       "      <td>37</td>\n",
       "      <td>3.064500</td>\n",
       "    </tr>\n",
       "    <tr>\n",
       "      <td>38</td>\n",
       "      <td>2.743800</td>\n",
       "    </tr>\n",
       "    <tr>\n",
       "      <td>39</td>\n",
       "      <td>2.586000</td>\n",
       "    </tr>\n",
       "    <tr>\n",
       "      <td>40</td>\n",
       "      <td>2.508500</td>\n",
       "    </tr>\n",
       "    <tr>\n",
       "      <td>41</td>\n",
       "      <td>2.970200</td>\n",
       "    </tr>\n",
       "    <tr>\n",
       "      <td>42</td>\n",
       "      <td>2.909300</td>\n",
       "    </tr>\n",
       "    <tr>\n",
       "      <td>43</td>\n",
       "      <td>2.901300</td>\n",
       "    </tr>\n",
       "    <tr>\n",
       "      <td>44</td>\n",
       "      <td>3.183700</td>\n",
       "    </tr>\n",
       "    <tr>\n",
       "      <td>45</td>\n",
       "      <td>3.127600</td>\n",
       "    </tr>\n",
       "    <tr>\n",
       "      <td>46</td>\n",
       "      <td>2.921000</td>\n",
       "    </tr>\n",
       "    <tr>\n",
       "      <td>47</td>\n",
       "      <td>2.855000</td>\n",
       "    </tr>\n",
       "    <tr>\n",
       "      <td>48</td>\n",
       "      <td>2.532100</td>\n",
       "    </tr>\n",
       "    <tr>\n",
       "      <td>49</td>\n",
       "      <td>2.649000</td>\n",
       "    </tr>\n",
       "    <tr>\n",
       "      <td>50</td>\n",
       "      <td>3.039100</td>\n",
       "    </tr>\n",
       "    <tr>\n",
       "      <td>51</td>\n",
       "      <td>2.913000</td>\n",
       "    </tr>\n",
       "    <tr>\n",
       "      <td>52</td>\n",
       "      <td>3.034200</td>\n",
       "    </tr>\n",
       "    <tr>\n",
       "      <td>53</td>\n",
       "      <td>2.842600</td>\n",
       "    </tr>\n",
       "    <tr>\n",
       "      <td>54</td>\n",
       "      <td>2.670700</td>\n",
       "    </tr>\n",
       "    <tr>\n",
       "      <td>55</td>\n",
       "      <td>2.636200</td>\n",
       "    </tr>\n",
       "    <tr>\n",
       "      <td>56</td>\n",
       "      <td>2.823300</td>\n",
       "    </tr>\n",
       "    <tr>\n",
       "      <td>57</td>\n",
       "      <td>2.748000</td>\n",
       "    </tr>\n",
       "    <tr>\n",
       "      <td>58</td>\n",
       "      <td>2.664300</td>\n",
       "    </tr>\n",
       "    <tr>\n",
       "      <td>59</td>\n",
       "      <td>2.393300</td>\n",
       "    </tr>\n",
       "    <tr>\n",
       "      <td>60</td>\n",
       "      <td>2.900700</td>\n",
       "    </tr>\n",
       "  </tbody>\n",
       "</table><p>"
      ],
      "text/plain": [
       "<IPython.core.display.HTML object>"
      ]
     },
     "metadata": {},
     "output_type": "display_data"
    },
    {
     "name": "stdout",
     "output_type": "stream",
     "text": [
      "Unsloth: Will smartly offload gradients to save VRAM!\n"
     ]
    }
   ],
   "source": [
    "trainer_stats = trainer.train()"
   ]
  },
  {
   "cell_type": "markdown",
   "id": "0f64726f-d0f9-404f-b370-d4681c246f00",
   "metadata": {},
   "source": [
    "## 4. 模型推理"
   ]
  },
  {
   "cell_type": "code",
   "execution_count": 10,
   "id": "2536a80d-3187-468e-b76c-76489a406d85",
   "metadata": {
    "execution": {
     "iopub.execute_input": "2025-04-26T15:32:02.561846Z",
     "iopub.status.busy": "2025-04-26T15:32:02.561434Z",
     "iopub.status.idle": "2025-04-26T15:32:03.113229Z",
     "shell.execute_reply": "2025-04-26T15:32:03.112802Z",
     "shell.execute_reply.started": "2025-04-26T15:32:02.561830Z"
    }
   },
   "outputs": [
    {
     "data": {
      "text/plain": [
       "['### Question:\\n血热的临床症状是什么？\\n\\n### Response:\\n舌红苔黄或赤，脉细数。<|im_end|>']"
      ]
     },
     "execution_count": 10,
     "metadata": {},
     "output_type": "execute_result"
    }
   ],
   "source": [
    "FastLanguageModel.for_inference(model) # Enable native 2x faster inference\n",
    "inputs = tokenizer(\n",
    "[\n",
    "    alpaca_prompt.format(\n",
    "        \"血热的临床症状是什么？\", # instruction\n",
    "        \"\", # input - leave this blank for generation!\n",
    "        \"\", # output - leave this blank for generation!\n",
    "    )\n",
    "], return_tensors = \"pt\").to(\"cuda\")\n",
    "\n",
    "outputs = model.generate(**inputs, max_new_tokens = 64, use_cache = True)\n",
    "tokenizer.batch_decode(outputs)"
   ]
  },
  {
   "cell_type": "code",
   "execution_count": 11,
   "id": "ac5df355-1d11-44f6-aa33-f863fb046e55",
   "metadata": {
    "execution": {
     "iopub.execute_input": "2025-04-26T15:32:03.113785Z",
     "iopub.status.busy": "2025-04-26T15:32:03.113595Z",
     "iopub.status.idle": "2025-04-26T15:32:04.145158Z",
     "shell.execute_reply": "2025-04-26T15:32:04.144753Z",
     "shell.execute_reply.started": "2025-04-26T15:32:03.113776Z"
    }
   },
   "outputs": [
    {
     "name": "stdout",
     "output_type": "stream",
     "text": [
      "### Question:\n",
      "血热的临床症状是什么？\n",
      "\n",
      "### Response:\n",
      "面红；心烦；口渴；盗汗；手足心热；尿黄；烦躁；舌质红；脉细数；舌边尖红。<|im_end|>\n"
     ]
    }
   ],
   "source": [
    "# 实时推理\n",
    "text_streamer = TextStreamer(tokenizer)\n",
    "_ = model.generate(**inputs, streamer = text_streamer, max_new_tokens = 128)"
   ]
  },
  {
   "cell_type": "markdown",
   "id": "1beceeb7-e785-4ce2-b5a7-9c863a9cb4a2",
   "metadata": {},
   "source": [
    "## 5. 保存模型"
   ]
  },
  {
   "cell_type": "code",
   "execution_count": 12,
   "id": "c0db8351-6f58-46d3-aa95-0c4d7b959d86",
   "metadata": {
    "execution": {
     "iopub.execute_input": "2025-04-26T15:32:04.145769Z",
     "iopub.status.busy": "2025-04-26T15:32:04.145560Z",
     "iopub.status.idle": "2025-04-26T15:32:05.183245Z",
     "shell.execute_reply": "2025-04-26T15:32:05.182384Z",
     "shell.execute_reply.started": "2025-04-26T15:32:04.145760Z"
    }
   },
   "outputs": [
    {
     "data": {
      "text/plain": [
       "('./model/lora_model/tokenizer_config.json',\n",
       " './model/lora_model/special_tokens_map.json',\n",
       " './model/lora_model/vocab.json',\n",
       " './model/lora_model/merges.txt',\n",
       " './model/lora_model/added_tokens.json',\n",
       " './model/lora_model/tokenizer.json')"
      ]
     },
     "execution_count": 12,
     "metadata": {},
     "output_type": "execute_result"
    }
   ],
   "source": [
    "# 保存模型\n",
    "model.save_pretrained(OUTPUT_PATH)  # Local saving\n",
    "tokenizer.save_pretrained(OUTPUT_PATH)\n",
    "# model.push_to_hub(\"your_name/lora_model\", token = \"...\") # Online saving\n",
    "# tokenizer.push_to_hub(\"your_name/lora_model\", token = \"...\") # Online saving"
   ]
  },
  {
   "cell_type": "markdown",
   "id": "9b41ac56-688c-4ee9-81d7-488f3d98b8fe",
   "metadata": {},
   "source": [
    "## 6. 保存模型后重新加载"
   ]
  },
  {
   "cell_type": "markdown",
   "id": "decb2f69-d7db-47ac-b076-cf8d4dd9a3c3",
   "metadata": {},
   "source": [
    "**1）使用 unsloth 加载模型**"
   ]
  },
  {
   "cell_type": "code",
   "execution_count": 13,
   "id": "3642c4de-1263-4dab-9601-95e917deb28c",
   "metadata": {
    "execution": {
     "iopub.execute_input": "2025-04-26T15:32:05.184213Z",
     "iopub.status.busy": "2025-04-26T15:32:05.184012Z",
     "iopub.status.idle": "2025-04-26T15:33:55.939431Z",
     "shell.execute_reply": "2025-04-26T15:33:55.939012Z",
     "shell.execute_reply.started": "2025-04-26T15:32:05.184197Z"
    }
   },
   "outputs": [
    {
     "name": "stdout",
     "output_type": "stream",
     "text": [
      "==((====))==  Unsloth 2025.3.19: Fast Qwen2 patching. Transformers: 4.51.3.\n",
      "   \\\\   /|    NVIDIA GeForce RTX 4070 Laptop GPU. Num GPUs = 1. Max memory: 7.996 GB. Platform: Linux.\n",
      "O^O/ \\_/ \\    Torch: 2.6.0+cu124. CUDA: 8.9. CUDA Toolkit: 12.4. Triton: 3.2.0\n",
      "\\        /    Bfloat16 = TRUE. FA [Xformers = 0.0.29.post3. FA2 = False]\n",
      " \"-____-\"     Free license: http://github.com/unslothai/unsloth\n",
      "Unsloth: Fast downloading is enabled - ignore downloading bars which are red colored!\n"
     ]
    }
   ],
   "source": [
    "from unsloth import FastLanguageModel\n",
    "model, tokenizer = FastLanguageModel.from_pretrained(\n",
    "    model_name = OUTPUT_PATH, # YOUR MODEL YOU USED FOR TRAINING\n",
    "    max_seq_length = max_seq_length,\n",
    "    dtype = dtype,\n",
    "    load_in_4bit = load_in_4bit,\n",
    ")\n",
    "_ = FastLanguageModel.for_inference(model) # Enable native 2x faster inference"
   ]
  },
  {
   "cell_type": "code",
   "execution_count": 14,
   "id": "59d28cc8-7a72-4c14-9849-cfb57fed1b3a",
   "metadata": {
    "execution": {
     "iopub.execute_input": "2025-04-26T15:33:55.940483Z",
     "iopub.status.busy": "2025-04-26T15:33:55.940162Z",
     "iopub.status.idle": "2025-04-26T15:33:57.052477Z",
     "shell.execute_reply": "2025-04-26T15:33:57.051930Z",
     "shell.execute_reply.started": "2025-04-26T15:33:55.940468Z"
    }
   },
   "outputs": [
    {
     "name": "stdout",
     "output_type": "stream",
     "text": [
      "### Question:\n",
      "血热的临床症状是什么？\n",
      "\n",
      "### Response:\n",
      "皮肤干燥；口干；舌红少津；心烦失眠；多食易饥；大便秘结；尿黄；小便赤热；眼花。<|im_end|>\n"
     ]
    }
   ],
   "source": [
    "alpaca_prompt = \"\"\"### Question:\n",
    "{}\n",
    "\n",
    "### Response:\n",
    "{}\"\"\"\n",
    "\n",
    "inputs = tokenizer(\n",
    "[\n",
    "    alpaca_prompt.format(\n",
    "        \"血热的临床症状是什么？\", # instruction\n",
    "        \"\", # input - leave this blank for generation!\n",
    "        \"\", # output - leave this blank for generation!\n",
    "    )\n",
    "], return_tensors = \"pt\").to(\"cuda\")\n",
    "\n",
    "text_streamer = TextStreamer(tokenizer)\n",
    "_ = model.generate(**inputs, streamer = text_streamer, max_new_tokens = 128)"
   ]
  },
  {
   "cell_type": "markdown",
   "id": "5cb2e0cc-49f5-458a-8b64-3544b885dcbb",
   "metadata": {},
   "source": [
    "**2）使用 transformers 加载模型**"
   ]
  },
  {
   "cell_type": "code",
   "execution_count": 15,
   "id": "6bf79e32-085d-4dd8-90c5-f17a3500885f",
   "metadata": {
    "execution": {
     "iopub.execute_input": "2025-04-26T15:53:45.781419Z",
     "iopub.status.busy": "2025-04-26T15:53:45.780382Z",
     "iopub.status.idle": "2025-04-26T15:55:11.643884Z",
     "shell.execute_reply": "2025-04-26T15:55:11.643299Z",
     "shell.execute_reply.started": "2025-04-26T15:53:45.781392Z"
    }
   },
   "outputs": [],
   "source": [
    "# I highly do NOT suggest - use Unsloth if possible\n",
    "\n",
    "quantization_config = BitsAndBytesConfig(\n",
    "    load_in_4bit=True,\n",
    "    bnb_4bit_compute_dtype=torch.float16,  # 计算时使用的数据类型\n",
    "    bnb_4bit_quant_type=\"nf4\",             # 量化类型，nf4或fp4\n",
    "    bnb_4bit_use_double_quant=True         # 是否使用双重量化\n",
    ")\n",
    "\n",
    "model = AutoPeftModelForCausalLM.from_pretrained(\n",
    "    OUTPUT_PATH, # YOUR MODEL YOU USED FOR TRAINING\n",
    "    quantization_config=quantization_config,\n",
    "    device_map=\"auto\"\n",
    ")\n",
    "tokenizer = AutoTokenizer.from_pretrained(OUTPUT_PATH)"
   ]
  },
  {
   "cell_type": "code",
   "execution_count": 19,
   "id": "818e896d-07cb-4615-9862-2e4ef28047b3",
   "metadata": {
    "execution": {
     "iopub.execute_input": "2025-04-26T15:56:59.771367Z",
     "iopub.status.busy": "2025-04-26T15:56:59.770684Z",
     "iopub.status.idle": "2025-04-26T15:57:01.251590Z",
     "shell.execute_reply": "2025-04-26T15:57:01.250958Z",
     "shell.execute_reply.started": "2025-04-26T15:56:59.771335Z"
    }
   },
   "outputs": [],
   "source": [
    "alpaca_prompt = \"\"\"### Question:\n",
    "{}\n",
    "\n",
    "### Response:\n",
    "{}\"\"\"\n",
    "\n",
    "prompt = alpaca_prompt.format(\"血热的临床症状是什么？\", \"\")\n",
    "\n",
    "inputs = tokenizer(prompt, return_tensors=\"pt\").to(model.device)\n",
    "outputs = model.generate(\n",
    "    **inputs,\n",
    "    max_new_tokens=1024,\n",
    "    temperature=0.7,\n",
    "    top_p=0.95,\n",
    "    do_sample=True,\n",
    "    pad_token_id=tokenizer.pad_token_id\n",
    ")\n",
    "# outputs"
   ]
  },
  {
   "cell_type": "code",
   "execution_count": 21,
   "id": "637f5c3c-b7b6-4d34-86ab-7a08128f3c1e",
   "metadata": {
    "execution": {
     "iopub.execute_input": "2025-04-26T15:57:11.309097Z",
     "iopub.status.busy": "2025-04-26T15:57:11.308194Z",
     "iopub.status.idle": "2025-04-26T15:57:11.314751Z",
     "shell.execute_reply": "2025-04-26T15:57:11.313890Z",
     "shell.execute_reply.started": "2025-04-26T15:57:11.308840Z"
    }
   },
   "outputs": [
    {
     "name": "stdout",
     "output_type": "stream",
     "text": [
      "### Question:\n",
      "血热的临床症状是什么？\n",
      "\n",
      "### Response:\n",
      "口干；心烦；尿黄；眩晕；消瘦；发热；便秘；烦躁；舌红少津。\n"
     ]
    }
   ],
   "source": [
    "decoded_output = tokenizer.decode(outputs[0], skip_special_tokens=True)\n",
    "print(decoded_output)"
   ]
  },
  {
   "cell_type": "markdown",
   "id": "a7ddeb96-faad-4134-9cc1-4dab203c47e4",
   "metadata": {},
   "source": [
    "参考：\n",
    "\n",
    "- GitHub: [unslothai/unsloth](https://github.com/unslothai/unsloth)\n",
    "- Docs: [docs.unsloth.ai](https://docs.unsloth.ai/)\n",
    "- Notebook：[Qwen2.5_(7B)-Alpaca.ipynb](https://colab.research.google.com/github/unslothai/notebooks/blob/main/nb/Qwen2.5_(7B)-Alpaca.ipynb)"
   ]
  },
  {
   "cell_type": "code",
   "execution_count": null,
   "id": "b64c0394-2f44-4777-8c5d-72779e8b2183",
   "metadata": {},
   "outputs": [],
   "source": []
  }
 ],
 "metadata": {
  "kernelspec": {
   "display_name": "Python 3 (ipykernel)",
   "language": "python",
   "name": "python3"
  },
  "language_info": {
   "codemirror_mode": {
    "name": "ipython",
    "version": 3
   },
   "file_extension": ".py",
   "mimetype": "text/x-python",
   "name": "python",
   "nbconvert_exporter": "python",
   "pygments_lexer": "ipython3",
   "version": "3.12.9"
  }
 },
 "nbformat": 4,
 "nbformat_minor": 5
}
